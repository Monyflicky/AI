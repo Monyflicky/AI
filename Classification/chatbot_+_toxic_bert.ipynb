{
  "nbformat": 4,
  "nbformat_minor": 0,
  "metadata": {
    "colab": {
      "provenance": []
    },
    "kernelspec": {
      "name": "python3",
      "display_name": "Python 3"
    },
    "language_info": {
      "name": "python"
    }
  },
  "cells": [
    {
      "cell_type": "code",
      "execution_count": null,
      "metadata": {
        "colab": {
          "base_uri": "https://localhost:8080/"
        },
        "id": "A5s1xfKt4k7N",
        "outputId": "0892b7b8-8fea-4ed2-b6aa-b443a009c0c7"
      },
      "outputs": [
        {
          "output_type": "stream",
          "name": "stdout",
          "text": [
            "Requirement already satisfied: pyTelegramBotAPI in /usr/local/lib/python3.11/dist-packages (4.26.0)\n",
            "Requirement already satisfied: requests in /usr/local/lib/python3.11/dist-packages (from pyTelegramBotAPI) (2.32.3)\n",
            "Requirement already satisfied: charset-normalizer<4,>=2 in /usr/local/lib/python3.11/dist-packages (from requests->pyTelegramBotAPI) (3.4.1)\n",
            "Requirement already satisfied: idna<4,>=2.5 in /usr/local/lib/python3.11/dist-packages (from requests->pyTelegramBotAPI) (3.10)\n",
            "Requirement already satisfied: urllib3<3,>=1.21.1 in /usr/local/lib/python3.11/dist-packages (from requests->pyTelegramBotAPI) (2.3.0)\n",
            "Requirement already satisfied: certifi>=2017.4.17 in /usr/local/lib/python3.11/dist-packages (from requests->pyTelegramBotAPI) (2024.12.14)\n"
          ]
        },
        {
          "output_type": "stream",
          "name": "stderr",
          "text": [
            "Device set to use cpu\n"
          ]
        }
      ],
      "source": [
        "!pip install pyTelegramBotAPI\n",
        "\n",
        "import telebot\n",
        "\n",
        "from transformers import AutoTokenizer, AutoModelForSequenceClassification, pipeline\n",
        "\n",
        "model = AutoModelForSequenceClassification.from_pretrained(\"unitary/toxic-bert\")\n",
        "tokenizer = AutoTokenizer.from_pretrained(\"unitary/toxic-bert\")\n",
        "TOKEN = {}\n",
        "\n",
        "bot = telebot.TeleBot(TOKEN)\n",
        "\n",
        "classification = pipeline('text-classification', model=model, tokenizer=tokenizer)\n",
        "\n",
        "threshold = 0.85\n",
        "\n",
        "@bot.message_handler(func=lambda message:True)\n",
        "def classify_text(message):\n",
        "      result = classification(message.text)\n",
        "      score = result[0]['score']\n",
        "      if score > threshold:\n",
        "        bot.reply_to(message, \"I consider this a toxic message\")\n",
        "      else:\n",
        "        bot.reply_to(message, \"this message does not look toxic\")\n",
        "\n",
        "\n",
        "bot.infinity_polling()"
      ]
    }
  ]
}