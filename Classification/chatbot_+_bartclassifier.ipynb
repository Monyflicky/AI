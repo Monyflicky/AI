{
  "nbformat": 4,
  "nbformat_minor": 0,
  "metadata": {
    "colab": {
      "provenance": []
    },
    "kernelspec": {
      "name": "python3",
      "display_name": "Python 3"
    },
    "language_info": {
      "name": "python"
    }
  },
  "cells": [
    {
      "cell_type": "code",
      "execution_count": null,
      "metadata": {
        "colab": {
          "base_uri": "https://localhost:8080/"
        },
        "id": "VH5kpMnrAHkp",
        "outputId": "b340bba1-47d6-4edf-8555-f0668b7b1f81"
      },
      "outputs": [
        {
          "output_type": "stream",
          "name": "stdout",
          "text": [
            "Requirement already satisfied: pyTelegramBotAPI in /usr/local/lib/python3.11/dist-packages (4.26.0)\n",
            "Requirement already satisfied: requests in /usr/local/lib/python3.11/dist-packages (from pyTelegramBotAPI) (2.32.3)\n",
            "Requirement already satisfied: charset-normalizer<4,>=2 in /usr/local/lib/python3.11/dist-packages (from requests->pyTelegramBotAPI) (3.4.1)\n",
            "Requirement already satisfied: idna<4,>=2.5 in /usr/local/lib/python3.11/dist-packages (from requests->pyTelegramBotAPI) (3.10)\n",
            "Requirement already satisfied: urllib3<3,>=1.21.1 in /usr/local/lib/python3.11/dist-packages (from requests->pyTelegramBotAPI) (2.3.0)\n",
            "Requirement already satisfied: certifi>=2017.4.17 in /usr/local/lib/python3.11/dist-packages (from requests->pyTelegramBotAPI) (2024.12.14)\n"
          ]
        },
        {
          "output_type": "stream",
          "name": "stderr",
          "text": [
            "No model was supplied, defaulted to facebook/bart-large-mnli and revision d7645e1 (https://huggingface.co/facebook/bart-large-mnli).\n",
            "Using a pipeline without specifying a model name and revision in production is not recommended.\n",
            "Device set to use cpu\n"
          ]
        }
      ],
      "source": [
        "!pip install pyTelegramBotAPI\n",
        "\n",
        "import telebot\n",
        "\n",
        "from transformers import pipeline\n",
        "\n",
        "TOKEN = {}\n",
        "\n",
        "bot = telebot.TeleBot(TOKEN)\n",
        "\n",
        "classification = pipeline(\"zero-shot-classification\")\n",
        "candidate_labels = [\"choose drinks\", \"order a pizza\", \"inform my address\"]\n",
        "\n",
        "\n",
        "@bot.message_handler(func=lambda message:True)\n",
        "def classify_text(message):\n",
        "      result = classification(message.text,candidate_labels)\n",
        "      max_index = result['scores'].index(max(result['scores']))\n",
        "      best_label = result['labels'][max_index]\n",
        "      bot.reply_to(message, {best_label})\n",
        "\n",
        "\n",
        "bot.infinity_polling()"
      ]
    }
  ]
}