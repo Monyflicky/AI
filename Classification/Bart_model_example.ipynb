{
  "nbformat": 4,
  "nbformat_minor": 0,
  "metadata": {
    "colab": {
      "provenance": [],
      "gpuType": "T4"
    },
    "kernelspec": {
      "name": "python3",
      "display_name": "Python 3"
    },
    "language_info": {
      "name": "python"
    },
    "accelerator": "GPU"
  },
  "cells": [
    {
      "cell_type": "code",
      "execution_count": 7,
      "metadata": {
        "colab": {
          "base_uri": "https://localhost:8080/"
        },
        "id": "_HjZyDKos3do",
        "outputId": "e0e97829-0c43-49e6-ee75-d527b49cf16b"
      },
      "outputs": [
        {
          "output_type": "stream",
          "name": "stderr",
          "text": [
            "Device set to use cuda:0\n"
          ]
        },
        {
          "output_type": "execute_result",
          "data": {
            "text/plain": [
              "[{'label': 'toxic', 'score': 0.9509986639022827}]"
            ]
          },
          "metadata": {},
          "execution_count": 7
        }
      ],
      "source": [
        "\n",
        "# Load model directly\n",
        "from transformers import pipeline, AutoTokenizer, AutoModelForSequenceClassification\n",
        "\n",
        "tokenizer = AutoTokenizer.from_pretrained(\"unitary/toxic-bert\")\n",
        "model = AutoModelForSequenceClassification.from_pretrained(\"unitary/toxic-bert\")\n",
        "\n",
        "classification = pipeline('text-classification',\n",
        "                           model=model,\n",
        "                           tokenizer=tokenizer\n",
        "                         )\n",
        "\n",
        "classification(\"I hate you\")"
      ]
    }
  ]
}